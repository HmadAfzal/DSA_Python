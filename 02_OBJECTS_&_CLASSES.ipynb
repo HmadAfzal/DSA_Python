{
 "cells": [
  {
   "cell_type": "code",
   "execution_count": 1,
   "id": "7ea8988d-1b47-4099-beea-cb3a5fb9f14a",
   "metadata": {},
   "outputs": [
    {
     "name": "stdout",
     "output_type": "stream",
     "text": [
      "hmad, 20 years old\n"
     ]
    }
   ],
   "source": [
    "class person:\n",
    "    def __init__(self,name,age):\n",
    "        self.name=name\n",
    "        self.age=age\n",
    "    def show(self):\n",
    "        print (f\"{self.name}, {self.age} years old\")\n",
    "\n",
    "p1=person('hmad',20)\n",
    "p1.show()"
   ]
  },
  {
   "cell_type": "code",
   "execution_count": 19,
   "id": "1139b8b2-9322-4fd2-ae68-37871ca4d0a4",
   "metadata": {},
   "outputs": [],
   "source": [
    "class circle:\n",
    "     def __init__(self,radius):\n",
    "        self.radius=radius\n",
    "     def set_radius(self,r):\n",
    "         self.radius=r\n",
    "     def get_radius(self):\n",
    "         return f\"radius is {self.radius}\"\n",
    "     def get_area(self):\n",
    "        area=3.14*(self.radius**2)\n",
    "        return area\n",
    "     def get_circumference(self):\n",
    "        circumference=2*3.14*self.radius\n",
    "        return circumference"
   ]
  },
  {
   "cell_type": "code",
   "execution_count": 20,
   "id": "95bd8dd5-5241-45a8-8fa4-63518c84f453",
   "metadata": {},
   "outputs": [
    {
     "name": "stdout",
     "output_type": "stream",
     "text": [
      "12.56\n"
     ]
    }
   ],
   "source": [
    "c1=circle(2)\n",
    "area=c1.get_area()\n",
    "print(area)"
   ]
  },
  {
   "cell_type": "code",
   "execution_count": 21,
   "id": "f65071f8-6573-426f-b022-7ed7f686094b",
   "metadata": {},
   "outputs": [],
   "source": [
    "c2=circle(2)\n",
    "c2.set_radius(3)"
   ]
  },
  {
   "cell_type": "code",
   "execution_count": 22,
   "id": "5b77cd86-ea23-4af9-ba91-b8115ac85320",
   "metadata": {},
   "outputs": [
    {
     "name": "stdout",
     "output_type": "stream",
     "text": [
      "radius is 3\n"
     ]
    }
   ],
   "source": [
    "r=c2.get_radius()\n",
    "print (r)"
   ]
  },
  {
   "cell_type": "code",
   "execution_count": 23,
   "id": "ecfcce3c-46dc-40e4-9b55-ed40f09669f8",
   "metadata": {},
   "outputs": [
    {
     "name": "stdout",
     "output_type": "stream",
     "text": [
      "28.26\n"
     ]
    }
   ],
   "source": [
    "\n",
    "area=c2.get_area()\n",
    "print(area)"
   ]
  },
  {
   "cell_type": "code",
   "execution_count": null,
   "id": "bde5a2fe-6398-4393-82cb-ead63e960f53",
   "metadata": {},
   "outputs": [],
   "source": []
  }
 ],
 "metadata": {
  "kernelspec": {
   "display_name": "Python 3 (ipykernel)",
   "language": "python",
   "name": "python3"
  },
  "language_info": {
   "codemirror_mode": {
    "name": "ipython",
    "version": 3
   },
   "file_extension": ".py",
   "mimetype": "text/x-python",
   "name": "python",
   "nbconvert_exporter": "python",
   "pygments_lexer": "ipython3",
   "version": "3.12.3"
  }
 },
 "nbformat": 4,
 "nbformat_minor": 5
}
