{
 "cells": [
  {
   "cell_type": "markdown",
   "id": "f9f34607-06a9-4a28-b774-d9527d70bc35",
   "metadata": {},
   "source": [
    "# Deque"
   ]
  },
  {
   "cell_type": "code",
   "execution_count": 1,
   "id": "6ae16dd5-1b6d-4eb9-9c97-87836379e8e0",
   "metadata": {},
   "outputs": [],
   "source": [
    "class Deque:\n",
    "    def __init__(self):\n",
    "        self.list=[]\n",
    "    def is_empty(self):\n",
    "        return len(self.list)==0\n",
    "    def insert_front(self,data):\n",
    "        self.list.insert(0,data)\n",
    "    def insert_rear(self,data):\n",
    "        self.list.append(data)\n",
    "    def delete_front(self):\n",
    "        if not self.is_empty():\n",
    "            self.list.pop(0)\n",
    "        else:\n",
    "            raise IndexError(\"Deque is empty\")\n",
    "    def delete_last(self):\n",
    "        if not self.is_empty():\n",
    "            self.list.pop(-1)\n",
    "        else:\n",
    "            raise IndexError(\"Deque is empty\")\n",
    "    def get_front(self):\n",
    "        if not self.is_empty():\n",
    "            return self.list[0]\n",
    "        else:\n",
    "            raise IndexError(\"Deque is empty\")\n",
    "    def get_rear(self):\n",
    "        if not self.is_empty():\n",
    "            return self.list[-1]\n",
    "        else:\n",
    "            raise IndexError(\"Deque is empty\")\n",
    "    def size(self):\n",
    "        return len(self.list)"
   ]
  },
  {
   "cell_type": "markdown",
   "id": "58bed07b-351a-49c0-adf3-231eb89f47ec",
   "metadata": {},
   "source": [
    "## Driver Code"
   ]
  },
  {
   "cell_type": "code",
   "execution_count": 4,
   "id": "57d87941-f50a-4fc3-9143-6d864da93d82",
   "metadata": {},
   "outputs": [
    {
     "name": "stdout",
     "output_type": "stream",
     "text": [
      "Deque size: 4\n",
      "Front element: 5\n",
      "Rear element: 30\n",
      "Front element after delete_front: 10\n",
      "Rear element after delete_last: 20\n",
      "Is deque empty? True\n",
      "Error: Deque is empty\n"
     ]
    }
   ],
   "source": [
    "if __name__ == \"__main__\":\n",
    "    deque = Deque()\n",
    "\n",
    "    deque.insert_front(10)\n",
    "    deque.insert_rear(20)\n",
    "    deque.insert_front(5)\n",
    "    deque.insert_rear(30)\n",
    "\n",
    "    print(\"Deque size:\", deque.size())  \n",
    "    print(\"Front element:\", deque.get_front())  \n",
    "    print(\"Rear element:\", deque.get_rear())    \n",
    "\n",
    "    deque.delete_front()\n",
    "    print(\"Front element after delete_front:\", deque.get_front())  \n",
    "\n",
    "    deque.delete_last()\n",
    "    print(\"Rear element after delete_last:\", deque.get_rear())  \n",
    "\n",
    "    deque.delete_front()\n",
    "    deque.delete_last()\n",
    "    print(\"Is deque empty?\", deque.is_empty())  \n",
    "\n",
    "    try:\n",
    "        deque.delete_front()  \n",
    "    except IndexError as e:\n",
    "        print(\"Error:\", e)  \n"
   ]
  },
  {
   "cell_type": "code",
   "execution_count": null,
   "id": "305b741a-6528-4d8b-85ec-5ece3c092ce7",
   "metadata": {},
   "outputs": [],
   "source": []
  }
 ],
 "metadata": {
  "kernelspec": {
   "display_name": "Python 3 (ipykernel)",
   "language": "python",
   "name": "python3"
  },
  "language_info": {
   "codemirror_mode": {
    "name": "ipython",
    "version": 3
   },
   "file_extension": ".py",
   "mimetype": "text/x-python",
   "name": "python",
   "nbconvert_exporter": "python",
   "pygments_lexer": "ipython3",
   "version": "3.12.3"
  }
 },
 "nbformat": 4,
 "nbformat_minor": 5
}
