{
 "cells": [
  {
   "cell_type": "markdown",
   "id": "5ccfa8ea-0c5f-4c9c-b59c-399ef1e5ac4a",
   "metadata": {},
   "source": [
    "# Deque Using SSL"
   ]
  },
  {
   "cell_type": "code",
   "execution_count": 2,
   "id": "0b2a9a1e-468b-4e50-9fe3-ff7f80ae37f5",
   "metadata": {},
   "outputs": [],
   "source": [
    "class Node:\n",
    "    def __init__(self, item=None, prev=None, next=None):\n",
    "        self.item = item\n",
    "        self.prev = prev\n",
    "        self.next = next\n",
    "\n",
    "class Deque:\n",
    "    def __init__(self):\n",
    "        self.front = None\n",
    "        self.rear = None\n",
    "        self.item_count = 0\n",
    "\n",
    "    def is_empty(self):\n",
    "        return self.front is None\n",
    "\n",
    "    def insert_at_front(self, data):\n",
    "        n = Node(data)\n",
    "        if self.is_empty():\n",
    "            self.rear = n\n",
    "        else:\n",
    "            self.front.prev = n\n",
    "            n.next = self.front\n",
    "        self.front = n\n",
    "        self.item_count += 1\n",
    "\n",
    "    def insert_at_rear(self, data):\n",
    "        n = Node(data)\n",
    "        if self.is_empty():\n",
    "            self.front = n\n",
    "        else:\n",
    "            self.rear.next = n\n",
    "            n.prev = self.rear\n",
    "        self.rear = n\n",
    "        self.item_count += 1\n",
    "\n",
    "    def delete_front(self):\n",
    "        if self.is_empty():\n",
    "            raise IndexError(\"Deque is empty\")\n",
    "        elif self.front == self.rear:  # Only one element\n",
    "            self.front = None\n",
    "            self.rear = None\n",
    "        else:\n",
    "            self.front = self.front.next\n",
    "            self.front.prev = None\n",
    "        self.item_count -= 1\n",
    "\n",
    "    def delete_rear(self):\n",
    "        if self.is_empty():\n",
    "            raise IndexError(\"Deque is empty\")\n",
    "        elif self.front == self.rear:  # Only one element\n",
    "            self.front = None\n",
    "            self.rear = None\n",
    "        else:\n",
    "            self.rear = self.rear.prev\n",
    "            self.rear.next = None\n",
    "        self.item_count -= 1\n",
    "\n",
    "    def get_front(self):\n",
    "        if self.is_empty():\n",
    "            raise IndexError(\"Deque is empty\")\n",
    "        return self.front.item\n",
    "\n",
    "    def get_rear(self):\n",
    "        if self.is_empty():\n",
    "            raise IndexError(\"Deque is empty\")\n",
    "        return self.rear.item\n",
    "\n",
    "    def size(self):\n",
    "        return self.item_count\n"
   ]
  },
  {
   "cell_type": "markdown",
   "id": "0440e777-851b-43c2-9764-937ba95cc76e",
   "metadata": {},
   "source": [
    "## Driver Code"
   ]
  },
  {
   "cell_type": "code",
   "execution_count": 4,
   "id": "58d9e6d6-6b68-4442-8f31-a62c47ebffc2",
   "metadata": {},
   "outputs": [
    {
     "name": "stdout",
     "output_type": "stream",
     "text": [
      "Deque size: 4\n",
      "Front element: 5\n",
      "Rear element: 30\n",
      "Front element after delete_front: 10\n",
      "Rear element after delete_rear: 20\n",
      "Is deque empty? True\n",
      "Error: Deque is empty\n"
     ]
    }
   ],
   "source": [
    "if __name__ == \"__main__\":\n",
    "    deque = Deque()\n",
    "\n",
    "    deque.insert_at_front(10)\n",
    "    deque.insert_at_rear(20)\n",
    "    deque.insert_at_front(5)\n",
    "    deque.insert_at_rear(30)\n",
    "\n",
    "    print(\"Deque size:\", deque.size())  \n",
    "    print(\"Front element:\", deque.get_front())  \n",
    "    print(\"Rear element:\", deque.get_rear())    \n",
    "\n",
    "    deque.delete_front()\n",
    "    print(\"Front element after delete_front:\", deque.get_front())  \n",
    "\n",
    "    deque.delete_rear()\n",
    "    print(\"Rear element after delete_rear:\", deque.get_rear())  \n",
    "\n",
    "    deque.delete_front()\n",
    "    deque.delete_rear()\n",
    "    print(\"Is deque empty?\", deque.is_empty())  \n",
    "\n",
    "    try:\n",
    "        deque.delete_front()  \n",
    "    except IndexError as e:\n",
    "        print(\"Error:\", e)  \n"
   ]
  },
  {
   "cell_type": "code",
   "execution_count": null,
   "id": "9ab11cf9-4575-4c09-bb41-47e11984eac3",
   "metadata": {},
   "outputs": [],
   "source": []
  }
 ],
 "metadata": {
  "kernelspec": {
   "display_name": "Python 3 (ipykernel)",
   "language": "python",
   "name": "python3"
  },
  "language_info": {
   "codemirror_mode": {
    "name": "ipython",
    "version": 3
   },
   "file_extension": ".py",
   "mimetype": "text/x-python",
   "name": "python",
   "nbconvert_exporter": "python",
   "pygments_lexer": "ipython3",
   "version": "3.12.3"
  }
 },
 "nbformat": 4,
 "nbformat_minor": 5
}
