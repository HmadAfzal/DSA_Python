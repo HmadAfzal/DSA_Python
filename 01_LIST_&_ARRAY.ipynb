{
 "cells": [
  {
   "cell_type": "code",
   "execution_count": 1,
   "id": "80eb8bdb-65de-49ca-a124-d115d36b8efa",
   "metadata": {},
   "outputs": [],
   "source": [
    "## Write python rogram to create list of n number of integers"
   ]
  },
  {
   "cell_type": "code",
   "execution_count": 5,
   "id": "d6bd47ae-673b-4f43-a397-e433ff981653",
   "metadata": {},
   "outputs": [],
   "source": [
    "def is_prime(num):\n",
    "    if num <= 1:\n",
    "        return False\n",
    "    for i in range(2, int(num ** 0.5) + 1):\n",
    "        if num % i == 0:\n",
    "            return False\n",
    "    return True  "
   ]
  },
  {
   "cell_type": "code",
   "execution_count": 22,
   "id": "b69fbbb9-0386-412b-8735-9a2c0eb739fc",
   "metadata": {},
   "outputs": [
    {
     "name": "stdin",
     "output_type": "stream",
     "text": [
      "Enter a number:  100\n"
     ]
    }
   ],
   "source": [
    "n=int(input('Enter a number: '))"
   ]
  },
  {
   "cell_type": "code",
   "execution_count": 23,
   "id": "bd3675bf-a80a-4e40-aef1-10c34ba91a4f",
   "metadata": {},
   "outputs": [],
   "source": [
    "primes=[] "
   ]
  },
  {
   "cell_type": "code",
   "execution_count": 24,
   "id": "a61f34be-8231-48f5-977e-851b64b14e00",
   "metadata": {},
   "outputs": [],
   "source": [
    "i=2"
   ]
  },
  {
   "cell_type": "code",
   "execution_count": 25,
   "id": "b7cb5f78-8d60-4a97-9057-198c771c8a04",
   "metadata": {},
   "outputs": [],
   "source": [
    "while True:\n",
    "    if len(primes)==n:\n",
    "        break;\n",
    "    elif is_prime(i):\n",
    "            primes.append(i)\n",
    "            i+=1\n",
    "    if not is_prime(i):\n",
    "        i +=1"
   ]
  },
  {
   "cell_type": "code",
   "execution_count": 26,
   "id": "f4c8c73d-5479-4bc9-a824-b4fbae7e652b",
   "metadata": {},
   "outputs": [
    {
     "name": "stdout",
     "output_type": "stream",
     "text": [
      "[2, 3, 5, 7, 11, 13, 17, 19, 23, 29, 31, 37, 41, 43, 47, 53, 59, 61, 67, 71, 73, 79, 83, 89, 97, 101, 103, 107, 109, 113, 127, 131, 137, 139, 149, 151, 157, 163, 167, 173, 179, 181, 191, 193, 197, 199, 211, 223, 227, 229, 233, 239, 241, 251, 257, 263, 269, 271, 277, 281, 283, 293, 307, 311, 313, 317, 331, 337, 347, 349, 353, 359, 367, 373, 379, 383, 389, 397, 401, 409, 419, 421, 431, 433, 439, 443, 449, 457, 461, 463, 467, 479, 487, 491, 499, 503, 509, 521, 523, 541]\n"
     ]
    }
   ],
   "source": [
    "print(primes)"
   ]
  }
 ],
 "metadata": {
  "kernelspec": {
   "display_name": "Python 3 (ipykernel)",
   "language": "python",
   "name": "python3"
  },
  "language_info": {
   "codemirror_mode": {
    "name": "ipython",
    "version": 3
   },
   "file_extension": ".py",
   "mimetype": "text/x-python",
   "name": "python",
   "nbconvert_exporter": "python",
   "pygments_lexer": "ipython3",
   "version": "3.12.3"
  }
 },
 "nbformat": 4,
 "nbformat_minor": 5
}
