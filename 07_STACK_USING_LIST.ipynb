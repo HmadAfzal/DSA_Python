{
 "cells": [
  {
   "cell_type": "markdown",
   "id": "530eb41c-a465-42b4-b661-9c32bc0b7f75",
   "metadata": {},
   "source": [
    "# Stack using list"
   ]
  },
  {
   "cell_type": "code",
   "execution_count": 4,
   "id": "6bfb123f-cdc0-4e35-97c0-c5111721cfa6",
   "metadata": {},
   "outputs": [],
   "source": [
    "class Stack():\n",
    "    def __init__(self):\n",
    "        self.items=[]\n",
    "    def is_empty(self):\n",
    "        return len(self.items)==0\n",
    "    def push(self,data):\n",
    "        self.items.append(data)\n",
    "    def pop(self):\n",
    "        if not self.is_empty():\n",
    "            return self.items.pop()\n",
    "        else:\n",
    "            raise IndexError(\"Stack is empty\")\n",
    "    def peek(self):\n",
    "        if not self.is_empty():\n",
    "            return self.items[-1]\n",
    "        else:\n",
    "            raise IndexError(\"Stack is empty\")\n",
    "    def size(self):\n",
    "        return len(self.items)\n",
    "            \n",
    "            "
   ]
  },
  {
   "cell_type": "markdown",
   "id": "afb60271-8a61-4c25-8e25-d10de52b7177",
   "metadata": {},
   "source": [
    "## Driver Code"
   ]
  },
  {
   "cell_type": "code",
   "execution_count": 5,
   "id": "2ea455b0-6fdd-465c-a46f-9c7c302dd4f7",
   "metadata": {},
   "outputs": [
    {
     "name": "stdout",
     "output_type": "stream",
     "text": [
      "Stack size: 3\n",
      "Top element: 30\n",
      "Popped element: 30\n",
      "Stack size after pop: 2\n",
      "Top element after pop: 20\n",
      "Is stack empty? True\n"
     ]
    }
   ],
   "source": [
    "if __name__ == \"__main__\":\n",
    "    stack = Stack()\n",
    "\n",
    "    stack.push(10)\n",
    "    stack.push(20)\n",
    "    stack.push(30)\n",
    "    print(\"Stack size:\", stack.size())  # Output: 3\n",
    "    print(\"Top element:\", stack.peek())  # Output: 30\n",
    "\n",
    "    print(\"Popped element:\", stack.pop())  # Output: 30\n",
    "    print(\"Stack size after pop:\", stack.size())  # Output: 2\n",
    "    print(\"Top element after pop:\", stack.peek())  # Output: 20\n",
    "\n",
    "    stack.pop()\n",
    "    stack.pop()\n",
    "    \n",
    "    print(\"Is stack empty?\", stack.is_empty())  # Output: True\n",
    "\n",
    "    # Uncommenting the next line will raise an exception: IndexError(\"Stack is empty\")\n",
    "    # stack.pop()\n"
   ]
  },
  {
   "cell_type": "code",
   "execution_count": null,
   "id": "54ac8929-d7b7-4dbe-a804-589c87362adb",
   "metadata": {},
   "outputs": [],
   "source": []
  }
 ],
 "metadata": {
  "kernelspec": {
   "display_name": "Python 3 (ipykernel)",
   "language": "python",
   "name": "python3"
  },
  "language_info": {
   "codemirror_mode": {
    "name": "ipython",
    "version": 3
   },
   "file_extension": ".py",
   "mimetype": "text/x-python",
   "name": "python",
   "nbconvert_exporter": "python",
   "pygments_lexer": "ipython3",
   "version": "3.12.3"
  }
 },
 "nbformat": 4,
 "nbformat_minor": 5
}
