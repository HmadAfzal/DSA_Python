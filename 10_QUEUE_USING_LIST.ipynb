{
 "cells": [
  {
   "cell_type": "markdown",
   "id": "dd541988-675b-4f5b-92f3-3d55e0167165",
   "metadata": {},
   "source": [
    "# Queue Using List"
   ]
  },
  {
   "cell_type": "code",
   "execution_count": 1,
   "id": "e4bb7e76-a4d8-4092-8de5-42ade886ecdc",
   "metadata": {},
   "outputs": [],
   "source": [
    "class Queue:\n",
    "    def __init__(self):\n",
    "        self.list=[]\n",
    "    def is_empty(self):\n",
    "        return len(self.list)==0\n",
    "    def enqueue(self,data):\n",
    "        self.list.append(data)\n",
    "    def dequeue(self):\n",
    "        return self.list.pop(0)\n",
    "    def get_front(self):\n",
    "        if not self.is_empty():\n",
    "            return self.list[0]\n",
    "        else:\n",
    "            raise IndexError(\"Queue is empty\")\n",
    "    def get_rear(self):\n",
    "        if not self.is_empty():\n",
    "            return self.list[-1]\n",
    "        else:\n",
    "            raise IndexError(\"Queue is empty\")\n",
    "    def size(self):\n",
    "        return len(self.list)"
   ]
  },
  {
   "cell_type": "markdown",
   "id": "e31e04a3-dd66-4be1-9162-8e1e1674e6e9",
   "metadata": {},
   "source": [
    "## Driver Code"
   ]
  },
  {
   "cell_type": "code",
   "execution_count": 4,
   "id": "00630868-cc5a-49c7-8de2-6e869260140c",
   "metadata": {},
   "outputs": [
    {
     "name": "stdout",
     "output_type": "stream",
     "text": [
      "Queue size: 3\n",
      "Front element: 10\n",
      "Rear element: 30\n",
      "Dequeued: 10\n",
      "Queue size after dequeue: 2\n",
      "Is queue empty? True\n",
      "Error: pop from empty list\n"
     ]
    }
   ],
   "source": [
    "if __name__ == \"__main__\":\n",
    "    queue = Queue()\n",
    "\n",
    "    # Enqueue elements\n",
    "    queue.enqueue(10)\n",
    "    queue.enqueue(20)\n",
    "    queue.enqueue(30)\n",
    "\n",
    "    print(\"Queue size:\", queue.size()) \n",
    "\n",
    "    # Get front and rear elements\n",
    "    print(\"Front element:\", queue.get_front())  \n",
    "    print(\"Rear element:\", queue.get_rear())    \n",
    "    # Dequeue elements and print them\n",
    "    print(\"Dequeued:\", queue.dequeue()) \n",
    "    print(\"Queue size after dequeue:\", queue.size()) \n",
    "\n",
    "    queue.dequeue()\n",
    "    queue.dequeue()\n",
    "\n",
    "    # Check if queue is empty\n",
    "    print(\"Is queue empty?\", queue.is_empty()) \n",
    "\n",
    "    try:\n",
    "        queue.dequeue() \n",
    "    except IndexError as e:\n",
    "        print(\"Error:\", e) \n"
   ]
  },
  {
   "cell_type": "code",
   "execution_count": null,
   "id": "06b015f4-fcbe-4317-b741-c98981c5956c",
   "metadata": {},
   "outputs": [],
   "source": []
  }
 ],
 "metadata": {
  "kernelspec": {
   "display_name": "Python 3 (ipykernel)",
   "language": "python",
   "name": "python3"
  },
  "language_info": {
   "codemirror_mode": {
    "name": "ipython",
    "version": 3
   },
   "file_extension": ".py",
   "mimetype": "text/x-python",
   "name": "python",
   "nbconvert_exporter": "python",
   "pygments_lexer": "ipython3",
   "version": "3.12.3"
  }
 },
 "nbformat": 4,
 "nbformat_minor": 5
}
