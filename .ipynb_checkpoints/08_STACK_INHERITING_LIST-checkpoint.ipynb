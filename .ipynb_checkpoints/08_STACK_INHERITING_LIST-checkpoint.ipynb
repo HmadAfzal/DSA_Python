{
 "cells": [
  {
   "cell_type": "markdown",
   "id": "7cfbad83-4dd3-43c5-9892-d15c6c1639a6",
   "metadata": {},
   "source": [
    "# Stack Inheriting List"
   ]
  },
  {
   "cell_type": "code",
   "execution_count": 5,
   "id": "b453efd9-cfef-4b49-a043-22afd9391258",
   "metadata": {},
   "outputs": [],
   "source": [
    "class Stack(list):\n",
    "    def is_empty(self):\n",
    "        return len(self) == 0\n",
    "\n",
    "    def push(self, data):\n",
    "        self.append(data)\n",
    "\n",
    "    def pop(self):\n",
    "        if not self.is_empty():\n",
    "            return super().pop()\n",
    "        else:\n",
    "            raise IndexError(\"Stack is empty\") \n",
    "    def peek(self):\n",
    "        if not self.is_empty():\n",
    "            return self[-1]\n",
    "        else:\n",
    "            raise IndexError(\"Stack is empty\") \n",
    "    def size(self):\n",
    "        return len(self)\n",
    "\n",
    "    def insert(self, index, data):\n",
    "        raise AttributeError(\"No attribute 'insert' in stack\")  \n"
   ]
  },
  {
   "cell_type": "markdown",
   "id": "b052d195-f419-4f4d-9712-424239efb8e1",
   "metadata": {},
   "source": [
    "## Driver Code"
   ]
  },
  {
   "cell_type": "code",
   "execution_count": 6,
   "id": "6e204ac4-0e2a-4f09-b2ee-7464a0fa4064",
   "metadata": {},
   "outputs": [
    {
     "name": "stdout",
     "output_type": "stream",
     "text": [
      "Stack size: 3\n",
      "Top element: 25\n",
      "Popped element: 25\n",
      "Stack size after pop: 2\n",
      "Top element after pop: 15\n",
      "Is stack empty? True\n",
      "Stack is empty\n",
      "No attribute 'insert' in stack\n"
     ]
    }
   ],
   "source": [
    "if __name__ == \"__main__\":\n",
    "    stack = Stack()\n",
    "\n",
    "    stack.push(5)\n",
    "    stack.push(15)\n",
    "    stack.push(25)\n",
    "    \n",
    "    print(\"Stack size:\", stack.size())  # Output: 3\n",
    "    print(\"Top element:\", stack.peek())  # Output: 25\n",
    "\n",
    "    print(\"Popped element:\", stack.pop())  # Output: 25\n",
    "    print(\"Stack size after pop:\", stack.size())  # Output: 2\n",
    "    print(\"Top element after pop:\", stack.peek())  # Output: 15\n",
    "\n",
    "    stack.pop()\n",
    "    stack.pop()\n",
    "    \n",
    "    print(\"Is stack empty?\", stack.is_empty())  # Output: True\n",
    "\n",
    "    try:\n",
    "        stack.pop()  # Should raise an error\n",
    "    except IndexError as e:\n",
    "        print(e)  # Output: Stack is empty\n",
    "\n",
    "    try:\n",
    "        stack.insert(0, 50)  # Should raise an error\n",
    "    except AttributeError as e:\n",
    "        print(e)  # Output: No attribute 'insert' in stack\n"
   ]
  },
  {
   "cell_type": "code",
   "execution_count": null,
   "id": "223c03dd-d1b4-490b-994b-3cd8c28cc8fe",
   "metadata": {},
   "outputs": [],
   "source": []
  }
 ],
 "metadata": {
  "kernelspec": {
   "display_name": "Python 3 (ipykernel)",
   "language": "python",
   "name": "python3"
  },
  "language_info": {
   "codemirror_mode": {
    "name": "ipython",
    "version": 3
   },
   "file_extension": ".py",
   "mimetype": "text/x-python",
   "name": "python",
   "nbconvert_exporter": "python",
   "pygments_lexer": "ipython3",
   "version": "3.12.3"
  }
 },
 "nbformat": 4,
 "nbformat_minor": 5
}
