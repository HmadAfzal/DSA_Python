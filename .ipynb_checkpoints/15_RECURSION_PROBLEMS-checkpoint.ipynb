{
 "cells": [
  {
   "cell_type": "code",
   "execution_count": 1,
   "id": "98e76a93-48d8-48f1-bac4-ac477c07baa6",
   "metadata": {},
   "outputs": [],
   "source": [
    "## Write a recursive function to print first n natural numbers"
   ]
  },
  {
   "cell_type": "code",
   "execution_count": 18,
   "id": "952cc497-1677-4e90-a0f9-4404b48c343f",
   "metadata": {},
   "outputs": [
    {
     "name": "stdout",
     "output_type": "stream",
     "text": [
      "1\n",
      "2\n",
      "3\n",
      "4\n",
      "5\n",
      "6\n",
      "7\n",
      "8\n",
      "9\n",
      "10\n"
     ]
    }
   ],
   "source": [
    "def print_n(n):\n",
    "    if n>0:\n",
    "        print_n(n-1)\n",
    "        print(n)\n",
    "\n",
    "print_n(10)"
   ]
  },
  {
   "cell_type": "code",
   "execution_count": 24,
   "id": "46c6ec0e-df85-4176-a2de-086a11839d75",
   "metadata": {},
   "outputs": [],
   "source": [
    "## Write a recursive function to print first n natural numbers in reverse order"
   ]
  },
  {
   "cell_type": "code",
   "execution_count": 54,
   "id": "1c05a357-359a-4ec6-aa4e-24ab63d817d3",
   "metadata": {},
   "outputs": [
    {
     "name": "stdout",
     "output_type": "stream",
     "text": [
      "10\n",
      "9\n",
      "8\n",
      "7\n",
      "6\n",
      "5\n",
      "4\n",
      "3\n",
      "2\n",
      "1\n"
     ]
    }
   ],
   "source": [
    "def print_n_reverse(n):\n",
    "    if n>0:\n",
    "        print(n)\n",
    "        print_n_reverse(n-1)\n",
    "\n",
    "print_n_reverse(10)"
   ]
  },
  {
   "cell_type": "code",
   "execution_count": 55,
   "id": "54d81b4e-6172-40c0-935b-d8b28f7da1b2",
   "metadata": {},
   "outputs": [],
   "source": [
    "## Write a recursive function to print first n odd natural numbers"
   ]
  },
  {
   "cell_type": "code",
   "execution_count": 51,
   "id": "cbc3be97-6318-4a43-96a4-d556481601ed",
   "metadata": {},
   "outputs": [
    {
     "name": "stdout",
     "output_type": "stream",
     "text": [
      "1\n",
      "3\n",
      "5\n",
      "7\n",
      "9\n",
      "11\n",
      "13\n",
      "15\n",
      "17\n",
      "19\n"
     ]
    }
   ],
   "source": [
    "def print_odd(n):\n",
    "    if n > 0:\n",
    "        print_odd(n-1) \n",
    "        print(2*n - 1) \n",
    "print_odd(10)"
   ]
  },
  {
   "cell_type": "code",
   "execution_count": 41,
   "id": "688a2645-0571-4fab-8aca-1342668237f6",
   "metadata": {},
   "outputs": [],
   "source": [
    "## Write a recursive function to print first n odd natural numbers in reverse order"
   ]
  },
  {
   "cell_type": "code",
   "execution_count": 56,
   "id": "7f9bce90-2981-4143-b48f-ff1be4ce605c",
   "metadata": {},
   "outputs": [
    {
     "name": "stdout",
     "output_type": "stream",
     "text": [
      "19\n",
      "17\n",
      "15\n",
      "13\n",
      "11\n",
      "9\n",
      "7\n",
      "5\n",
      "3\n",
      "1\n"
     ]
    }
   ],
   "source": [
    "def print_odd_reverse(n):\n",
    "    if n > 0:\n",
    "        print(2*n - 1) \n",
    "        print_odd_reverse(n-1) \n",
    "print_odd_reverse(10)"
   ]
  },
  {
   "cell_type": "code",
   "execution_count": null,
   "id": "fc11dafb-d686-4a21-b479-e58e83be473b",
   "metadata": {},
   "outputs": [],
   "source": [
    "## Write a recursive function to print first n ever natural numbers"
   ]
  },
  {
   "cell_type": "code",
   "execution_count": 58,
   "id": "c8c78eaf-26c2-43a0-bd63-35839aa1bf51",
   "metadata": {},
   "outputs": [
    {
     "name": "stdout",
     "output_type": "stream",
     "text": [
      "2\n",
      "4\n",
      "6\n",
      "8\n",
      "10\n",
      "12\n",
      "14\n",
      "16\n",
      "18\n",
      "20\n"
     ]
    }
   ],
   "source": [
    "def print_even(n):\n",
    "    if n > 0:\n",
    "        print_even(n-1) \n",
    "        print(2*n) \n",
    "print_even(10)"
   ]
  },
  {
   "cell_type": "code",
   "execution_count": 48,
   "id": "79ad9095-afab-4246-8c3a-1b5c950e97c4",
   "metadata": {},
   "outputs": [],
   "source": [
    "## Write a recursive function to print first n odd natural numbers in reverse"
   ]
  },
  {
   "cell_type": "code",
   "execution_count": 57,
   "id": "2cd902f8-955c-48e9-82d7-c709989b50c4",
   "metadata": {},
   "outputs": [
    {
     "name": "stdout",
     "output_type": "stream",
     "text": [
      "20\n",
      "18\n",
      "16\n",
      "14\n",
      "12\n",
      "10\n",
      "8\n",
      "6\n",
      "4\n",
      "2\n"
     ]
    }
   ],
   "source": [
    "def print_even_reverse(n):\n",
    "    if n > 0:\n",
    "        print(2*n) \n",
    "        print_even_reverse(n-1) \n",
    "print_even_reverse(10)"
   ]
  },
  {
   "cell_type": "code",
   "execution_count": 52,
   "id": "f6f37c29-23f0-4696-b6f0-c4dc2f615ff9",
   "metadata": {},
   "outputs": [],
   "source": [
    "## Write a recursive function to calculate sum of first n natural numbers."
   ]
  },
  {
   "cell_type": "code",
   "execution_count": 67,
   "id": "134a42bd-6e19-4fa8-a85b-eb1d736b5bc1",
   "metadata": {},
   "outputs": [
    {
     "name": "stdout",
     "output_type": "stream",
     "text": [
      "6\n"
     ]
    }
   ],
   "source": [
    "def sum_natural(n):\n",
    "    if n==1:\n",
    "        return(1)\n",
    "    else:\n",
    "        s=n+sum_natural(n-1)\n",
    "        return(s)\n",
    "\n",
    "print(sum_natural(3))"
   ]
  },
  {
   "cell_type": "code",
   "execution_count": 63,
   "id": "8ce71ad3-665b-4727-ae3c-392fa64c8d57",
   "metadata": {},
   "outputs": [],
   "source": [
    "## Write a recursive function to calculate sum of first n odd natural numbers."
   ]
  },
  {
   "cell_type": "code",
   "execution_count": 71,
   "id": "9db6b58a-dfe6-48ee-8b13-ec185d215139",
   "metadata": {},
   "outputs": [
    {
     "name": "stdout",
     "output_type": "stream",
     "text": [
      "9\n"
     ]
    }
   ],
   "source": [
    "def sum_odd(n):\n",
    "    if n==1:\n",
    "        return(1)\n",
    "    else:\n",
    "        s=2*n-1+sum_odd(n-1)\n",
    "        return(s)\n",
    "\n",
    "print(sum_odd(3))"
   ]
  },
  {
   "cell_type": "code",
   "execution_count": 72,
   "id": "8307a667-fce8-4b97-8c13-a9195c6735a5",
   "metadata": {},
   "outputs": [],
   "source": [
    "## Write a recursive function to calculate sum of first n even natural numbers."
   ]
  },
  {
   "cell_type": "code",
   "execution_count": 74,
   "id": "8536808c-5229-49b5-8942-c7e0805af509",
   "metadata": {},
   "outputs": [
    {
     "name": "stdout",
     "output_type": "stream",
     "text": [
      "12\n"
     ]
    }
   ],
   "source": [
    "def sum_even(n):\n",
    "    if n==1:\n",
    "        return(2)\n",
    "    else:\n",
    "        s=2*n+sum_even(n-1)\n",
    "        return(s)\n",
    "\n",
    "print(sum_even(3))"
   ]
  },
  {
   "cell_type": "code",
   "execution_count": 76,
   "id": "16a21775-c4a8-40fb-950d-e89be1cb32d8",
   "metadata": {},
   "outputs": [],
   "source": [
    "## Write a recursive function to calculate factorial of n natural numbers."
   ]
  },
  {
   "cell_type": "code",
   "execution_count": 75,
   "id": "bef0b27c-e55a-4bd1-8483-1cca1f024766",
   "metadata": {},
   "outputs": [
    {
     "name": "stdout",
     "output_type": "stream",
     "text": [
      "6\n"
     ]
    }
   ],
   "source": [
    "def factorial(n):\n",
    "    if n==1:\n",
    "        return(1)\n",
    "    else:\n",
    "        s=n*factorial(n-1)\n",
    "        return(s)\n",
    "\n",
    "print(factorial(3))"
   ]
  },
  {
   "cell_type": "code",
   "execution_count": 77,
   "id": "0e658e6c-86a0-4f85-918c-442feeaac125",
   "metadata": {},
   "outputs": [],
   "source": [
    "## Write a recursive function to calculate the sum of square of n natural numbers"
   ]
  },
  {
   "cell_type": "code",
   "execution_count": 80,
   "id": "4250e626-18fa-493f-b1f9-a09f80204ffc",
   "metadata": {},
   "outputs": [
    {
     "name": "stdout",
     "output_type": "stream",
     "text": [
      "24\n"
     ]
    }
   ],
   "source": [
    "def square(n):\n",
    "    if n==1:\n",
    "        return(1)\n",
    "    else:\n",
    "        s=n*square(n-1)\n",
    "        return(s)\n",
    "\n",
    "print(square(4))"
   ]
  },
  {
   "cell_type": "code",
   "execution_count": null,
   "id": "f034cf44-d055-450f-8177-1e5ef9b2fa24",
   "metadata": {},
   "outputs": [],
   "source": []
  }
 ],
 "metadata": {
  "kernelspec": {
   "display_name": "Python 3 (ipykernel)",
   "language": "python",
   "name": "python3"
  },
  "language_info": {
   "codemirror_mode": {
    "name": "ipython",
    "version": 3
   },
   "file_extension": ".py",
   "mimetype": "text/x-python",
   "name": "python",
   "nbconvert_exporter": "python",
   "pygments_lexer": "ipython3",
   "version": "3.12.3"
  }
 },
 "nbformat": 4,
 "nbformat_minor": 5
}
