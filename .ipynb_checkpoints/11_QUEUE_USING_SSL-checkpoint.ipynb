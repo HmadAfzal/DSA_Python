{
 "cells": [
  {
   "cell_type": "markdown",
   "id": "df84d362-5259-4829-b4af-ec16468707eb",
   "metadata": {},
   "source": [
    "# Queue Using SSL"
   ]
  },
  {
   "cell_type": "code",
   "execution_count": 1,
   "id": "739ce6b8-f21a-4c67-9835-33f6d605434c",
   "metadata": {},
   "outputs": [],
   "source": [
    "class Node:\n",
    "    def __init__(self, item=None, next=None):\n",
    "        self.item = item\n",
    "        self.next = next\n",
    "\n",
    "class Queue:\n",
    "    def __init__(self):\n",
    "        self.front = None\n",
    "        self.rear = None\n",
    "        self.item_count = 0\n",
    "\n",
    "    def is_empty(self):\n",
    "        return self.front is None\n",
    "\n",
    "    def enqueue(self, data):\n",
    "        n = Node(data)\n",
    "        if self.is_empty():\n",
    "            self.front = n\n",
    "        else:\n",
    "            self.rear.next = n\n",
    "        self.rear = n\n",
    "        self.item_count += 1\n",
    "\n",
    "    def dequeue(self):\n",
    "        if not self.is_empty():\n",
    "            if self.front == self.rear:  \n",
    "                self.front = None\n",
    "                self.rear = None\n",
    "            else:\n",
    "                self.front = self.front.next\n",
    "            self.item_count -= 1\n",
    "        else:\n",
    "            raise IndexError(\"Queue is empty\")\n",
    "\n",
    "    def get_front(self):\n",
    "        if not self.is_empty():\n",
    "            return self.front.item\n",
    "        else:\n",
    "            raise IndexError(\"Queue is empty\")\n",
    "\n",
    "    def get_last(self):\n",
    "        if not self.is_empty():\n",
    "            return self.rear.item\n",
    "        else:\n",
    "            raise IndexError(\"Queue is empty\")\n",
    "\n",
    "    def size(self):\n",
    "        return self.item_count\n"
   ]
  },
  {
   "cell_type": "markdown",
   "id": "4b311b01-1916-415d-a846-bb1343cc7fa2",
   "metadata": {},
   "source": [
    "## Driver Code"
   ]
  },
  {
   "cell_type": "code",
   "execution_count": 4,
   "id": "44aa015a-be6f-4e71-83a6-99bd115d2fab",
   "metadata": {},
   "outputs": [
    {
     "name": "stdout",
     "output_type": "stream",
     "text": [
      "Queue size: 3\n",
      "Front element: 10\n",
      "Last element: 30\n",
      "Queue size after one dequeue: 2\n",
      "Front element after dequeue: 20\n",
      "Is queue empty? True\n",
      "Error: Queue is empty\n"
     ]
    }
   ],
   "source": [
    "if __name__ == \"__main__\":\n",
    "    queue = Queue()\n",
    "\n",
    "    queue.enqueue(10)\n",
    "    queue.enqueue(20)\n",
    "    queue.enqueue(30)\n",
    "\n",
    "    print(\"Queue size:\", queue.size())  # Expected: 3\n",
    "\n",
    "    print(\"Front element:\", queue.get_front())  # Expected: 10\n",
    "    print(\"Last element:\", queue.get_last())    # Expected: 30\n",
    "\n",
    "    queue.dequeue()\n",
    "    print(\"Queue size after one dequeue:\", queue.size())  # Expected: 2\n",
    "    print(\"Front element after dequeue:\", queue.get_front())  # Expected: 20\n",
    "\n",
    "    queue.dequeue()\n",
    "    queue.dequeue()\n",
    "\n",
    "    print(\"Is queue empty?\", queue.is_empty()) \n",
    "\n",
    "    try:\n",
    "        queue.dequeue() \n",
    "    except IndexError as e:\n",
    "        print(\"Error:\", e) \n"
   ]
  },
  {
   "cell_type": "code",
   "execution_count": null,
   "id": "518f05e7-270f-41af-9955-c3818ba3e37f",
   "metadata": {},
   "outputs": [],
   "source": []
  }
 ],
 "metadata": {
  "kernelspec": {
   "display_name": "Python 3 (ipykernel)",
   "language": "python",
   "name": "python3"
  },
  "language_info": {
   "codemirror_mode": {
    "name": "ipython",
    "version": 3
   },
   "file_extension": ".py",
   "mimetype": "text/x-python",
   "name": "python",
   "nbconvert_exporter": "python",
   "pygments_lexer": "ipython3",
   "version": "3.12.3"
  }
 },
 "nbformat": 4,
 "nbformat_minor": 5
}
