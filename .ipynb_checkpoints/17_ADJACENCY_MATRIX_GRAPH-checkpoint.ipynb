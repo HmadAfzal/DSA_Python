{
 "cells": [
  {
   "cell_type": "markdown",
   "id": "1def303d-1c41-4d34-85dc-16113613fda8",
   "metadata": {},
   "source": [
    "# Adjacency Matrix Graph"
   ]
  },
  {
   "cell_type": "code",
   "execution_count": 2,
   "id": "da89ae39-2889-4ec5-946b-3a13f36909ce",
   "metadata": {},
   "outputs": [],
   "source": [
    "class Graph:\n",
    "    def __init__(self, size):\n",
    "        self.vertex_count = size\n",
    "        self.adj_matrix = [[0] * size for _ in range(size)]\n",
    "\n",
    "    def add_edge(self, u, v, weight=1):\n",
    "        if 0 <= u < self.vertex_count and 0 <= v < self.vertex_count:\n",
    "            self.adj_matrix[u][v] = weight\n",
    "            self.adj_matrix[v][u] = weight  # Because it's an undirected graph\n",
    "        else:\n",
    "            print(f\"Invalid Vertex: ({u}, {v}) out of bounds!\")\n",
    "\n",
    "    def remove_edge(self, u, v):\n",
    "        if 0 <= u < self.vertex_count and 0 <= v < self.vertex_count:\n",
    "            self.adj_matrix[u][v] = 0\n",
    "            self.adj_matrix[v][u] = 0  # Remove from both directions\n",
    "        else:\n",
    "            print(f\"Invalid Vertex: ({u}, {v}) out of bounds!\")\n",
    "\n",
    "    def has_edge(self, u, v):\n",
    "        if 0 <= u < self.vertex_count and 0 <= v < self.vertex_count:\n",
    "            return self.adj_matrix[u][v] != 0\n",
    "        return False  # Avoid index error for invalid input\n",
    "\n",
    "    def print_adj_matrix(self):\n",
    "        print(\"\\nAdjacency Matrix:\")\n",
    "        for row in self.adj_matrix:\n",
    "            print(\" \".join(map(str, row)))\n",
    "        print()"
   ]
  },
  {
   "cell_type": "markdown",
   "id": "99446616-5426-4642-ac6f-bf508a33b0a8",
   "metadata": {},
   "source": [
    "## Driver Code"
   ]
  },
  {
   "cell_type": "code",
   "execution_count": 4,
   "id": "cfb7b7a9-e38b-41f4-9537-eeb856b58b79",
   "metadata": {},
   "outputs": [
    {
     "name": "stdout",
     "output_type": "stream",
     "text": [
      "\n",
      "Adjacency Matrix:\n",
      "0 1 1 0\n",
      "1 0 1 1\n",
      "1 1 0 1\n",
      "0 1 1 0\n",
      "\n",
      "Edge (0,1): True\n",
      "Edge (2,3): True\n",
      "Edge (3,0): False\n",
      "\n",
      "Adjacency Matrix:\n",
      "0 1 1 0\n",
      "1 0 0 1\n",
      "1 0 0 1\n",
      "0 1 1 0\n",
      "\n"
     ]
    }
   ],
   "source": [
    "g = Graph(4)\n",
    "\n",
    "g.add_edge(0, 1)\n",
    "g.add_edge(0, 2)\n",
    "g.add_edge(1, 2)\n",
    "g.add_edge(1, 3)\n",
    "g.add_edge(2, 3)\n",
    "\n",
    "g.print_adj_matrix()\n",
    "\n",
    "# Checking edges\n",
    "print(\"Edge (0,1):\", g.has_edge(0, 1)) \n",
    "print(\"Edge (2,3):\", g.has_edge(2, 3))  \n",
    "print(\"Edge (3,0):\", g.has_edge(3, 0))  \n",
    "\n",
    "g.remove_edge(1, 2)\n",
    "\n",
    "g.print_adj_matrix()\n"
   ]
  },
  {
   "cell_type": "code",
   "execution_count": null,
   "id": "459d765b-dc47-4c6b-832e-1be8ded26431",
   "metadata": {},
   "outputs": [],
   "source": []
  }
 ],
 "metadata": {
  "kernelspec": {
   "display_name": "Python 3 (ipykernel)",
   "language": "python",
   "name": "python3"
  },
  "language_info": {
   "codemirror_mode": {
    "name": "ipython",
    "version": 3
   },
   "file_extension": ".py",
   "mimetype": "text/x-python",
   "name": "python",
   "nbconvert_exporter": "python",
   "pygments_lexer": "ipython3",
   "version": "3.12.3"
  }
 },
 "nbformat": 4,
 "nbformat_minor": 5
}
