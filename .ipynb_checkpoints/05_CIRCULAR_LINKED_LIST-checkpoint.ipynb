{
 "cells": [
  {
   "cell_type": "markdown",
   "id": "9a64c8f5-042d-43e8-8923-b6a65c856754",
   "metadata": {},
   "source": [
    "# Circular Linked List"
   ]
  },
  {
   "cell_type": "code",
   "execution_count": 4,
   "id": "c67a6da9-2aea-49c5-a31c-3740625d4ad8",
   "metadata": {},
   "outputs": [],
   "source": [
    "class Node:\n",
    "    def __init__(self, item=None, next=None):\n",
    "        self.item = item\n",
    "        self.next = next\n",
    "\n",
    "class CLL:\n",
    "    def __init__(self, last=None):\n",
    "        self.last = last\n",
    "\n",
    "    def is_empty(self):\n",
    "        return self.last is None\n",
    "\n",
    "    def insert_at_start(self, data):\n",
    "        n = Node(data)\n",
    "        if self.is_empty():\n",
    "            n.next = n\n",
    "            self.last = n\n",
    "        else:\n",
    "            n.next = self.last.next\n",
    "            self.last.next = n\n",
    "\n",
    "    def insert_at_last(self, data):\n",
    "        n = Node(data)\n",
    "        if self.is_empty():\n",
    "            n.next = n\n",
    "            self.last = n\n",
    "        else:\n",
    "            n.next = self.last.next\n",
    "            self.last.next = n\n",
    "            self.last = n\n",
    "\n",
    "    def search(self, item):\n",
    "        if self.is_empty():\n",
    "            return None\n",
    "        temp = self.last.next\n",
    "        while True:\n",
    "            if temp.item == item:\n",
    "                return temp\n",
    "            temp = temp.next\n",
    "            if temp == self.last.next:\n",
    "                break\n",
    "        return None\n",
    "\n",
    "    def insert_after(self, item, data):\n",
    "        temp = self.search(item)\n",
    "        if temp:\n",
    "            n = Node(data, temp.next)\n",
    "            temp.next = n\n",
    "            if temp == self.last:\n",
    "                self.last = n\n",
    "        else:\n",
    "            return \"Item not found\"\n",
    "\n",
    "    def print_list(self):\n",
    "        if self.is_empty():\n",
    "            print(\"List is empty\")\n",
    "            return\n",
    "        temp = self.last.next\n",
    "        while True:\n",
    "            print(temp.item, end=\" -> \")\n",
    "            temp = temp.next\n",
    "            if temp == self.last.next:\n",
    "                break\n",
    "        print(\"(Back to start)\")\n"
   ]
  },
  {
   "cell_type": "markdown",
   "id": "d5899905-31d7-45e8-94a2-693424b9c84b",
   "metadata": {},
   "source": [
    "## Driver Code"
   ]
  },
  {
   "cell_type": "code",
   "execution_count": 5,
   "id": "9ed18495-39ca-4749-9d01-8ecac07505d2",
   "metadata": {},
   "outputs": [
    {
     "name": "stdout",
     "output_type": "stream",
     "text": [
      "30 -> 20 -> 10 -> (Back to start)\n",
      "30 -> 20 -> 10 -> 40 -> 50 -> (Back to start)\n",
      "Search result: 20\n",
      "30 -> 20 -> 25 -> 10 -> 40 -> 50 -> (Back to start)\n"
     ]
    }
   ],
   "source": [
    "if __name__ == \"__main__\":\n",
    "    cll = CLL()\n",
    "\n",
    "    cll.insert_at_start(10)\n",
    "    cll.insert_at_start(20)\n",
    "    cll.insert_at_start(30)\n",
    "    cll.print_list()\n",
    "\n",
    "    cll.insert_at_last(40)\n",
    "    cll.insert_at_last(50)\n",
    "    cll.print_list()\n",
    "\n",
    "    search_item = 20\n",
    "    result = cll.search(search_item)\n",
    "    print(f\"Search result: {result.item}\" if result else \"Item not found\")\n",
    "\n",
    "    cll.insert_after(20, 25)\n",
    "    cll.print_list()\n"
   ]
  },
  {
   "cell_type": "code",
   "execution_count": null,
   "id": "1d78d924-cc43-4242-830b-673f9b9e0762",
   "metadata": {},
   "outputs": [],
   "source": []
  }
 ],
 "metadata": {
  "kernelspec": {
   "display_name": "Python 3 (ipykernel)",
   "language": "python",
   "name": "python3"
  },
  "language_info": {
   "codemirror_mode": {
    "name": "ipython",
    "version": 3
   },
   "file_extension": ".py",
   "mimetype": "text/x-python",
   "name": "python",
   "nbconvert_exporter": "python",
   "pygments_lexer": "ipython3",
   "version": "3.12.3"
  }
 },
 "nbformat": 4,
 "nbformat_minor": 5
}
