{
 "cells": [
  {
   "cell_type": "markdown",
   "id": "2eaae6ba-f012-4830-b551-6952397ff3e8",
   "metadata": {},
   "source": [
    "# Selectin Sort"
   ]
  },
  {
   "cell_type": "code",
   "execution_count": 3,
   "id": "30efda4f-cc62-4403-b68e-99ca0b5410c7",
   "metadata": {},
   "outputs": [],
   "source": [
    "def selection_sort(arr):\n",
    "    n=len(arr)\n",
    "    for i in range(n-1):\n",
    "        min_index=i\n",
    "        for j in range(i+1, n):\n",
    "            if arr[j]< arr[min_index]:\n",
    "                min_index=j\n",
    "        arr[i], arr[min_index]=arr[min_index],arr[i]\n",
    "    return arr"
   ]
  },
  {
   "cell_type": "code",
   "execution_count": 4,
   "id": "4f1d789e-40fc-4ead-ab3f-269ab61297b9",
   "metadata": {},
   "outputs": [
    {
     "data": {
      "text/plain": [
       "[7, 15, 24, 25, 26, 33, 38]"
      ]
     },
     "execution_count": 4,
     "metadata": {},
     "output_type": "execute_result"
    }
   ],
   "source": [
    "selection_sort([25,33,24,15,26,7,38])"
   ]
  }
 ],
 "metadata": {
  "kernelspec": {
   "display_name": "Python 3 (ipykernel)",
   "language": "python",
   "name": "python3"
  },
  "language_info": {
   "codemirror_mode": {
    "name": "ipython",
    "version": 3
   },
   "file_extension": ".py",
   "mimetype": "text/x-python",
   "name": "python",
   "nbconvert_exporter": "python",
   "pygments_lexer": "ipython3",
   "version": "3.12.3"
  }
 },
 "nbformat": 4,
 "nbformat_minor": 5
}
