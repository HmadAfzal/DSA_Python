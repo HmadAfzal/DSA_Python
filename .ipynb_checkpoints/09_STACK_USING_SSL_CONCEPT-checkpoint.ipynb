{
 "cells": [
  {
   "cell_type": "markdown",
   "id": "f0b24187-728e-42e5-ab12-7e05c4e5c2bf",
   "metadata": {},
   "source": [
    "# Stack using SSL Concept"
   ]
  },
  {
   "cell_type": "code",
   "execution_count": 3,
   "id": "e7752cee-0605-44e3-b5f8-fd1ac8665de6",
   "metadata": {},
   "outputs": [],
   "source": [
    "class Node:\n",
    "    def __init__(self, item=None, next=None):\n",
    "        self.item = item\n",
    "        self.next = next\n",
    "\n",
    "class Stack:\n",
    "    def __init__(self):\n",
    "        self.start = None\n",
    "        self.item_count = 0\n",
    "\n",
    "    def is_empty(self):\n",
    "        return self.start is None\n",
    "\n",
    "    def push(self, item):\n",
    "        n = Node(item, self.start)\n",
    "        self.start = n\n",
    "        self.item_count += 1\n",
    "\n",
    "    def pop(self):\n",
    "        if not self.is_empty():\n",
    "            data = self.start.item\n",
    "            self.start = self.start.next\n",
    "            self.item_count -= 1\n",
    "            return data\n",
    "        else:\n",
    "            raise IndexError(\"Stack is empty\")\n",
    "\n",
    "    def peek(self):\n",
    "        if not self.is_empty():\n",
    "            return self.start.item\n",
    "        else:\n",
    "            raise IndexError(\"Stack is empty\")\n",
    "\n",
    "    def size(self):\n",
    "        return self.item_count\n"
   ]
  },
  {
   "cell_type": "markdown",
   "id": "6ff224a5-c061-409b-9808-b85878d52297",
   "metadata": {},
   "source": [
    "## Driver Code"
   ]
  },
  {
   "cell_type": "code",
   "execution_count": 4,
   "id": "84c4a80e-f080-4214-9652-a9b94f69e733",
   "metadata": {},
   "outputs": [
    {
     "name": "stdout",
     "output_type": "stream",
     "text": [
      "Stack size: 3\n",
      "Top element: 30\n",
      "Popped element: 30\n",
      "Stack size after pop: 2\n",
      "Is stack empty? True\n",
      "Stack is empty\n"
     ]
    }
   ],
   "source": [
    "if __name__ == \"__main__\":\n",
    "    stack = Stack()\n",
    "\n",
    "    stack.push(10)\n",
    "    stack.push(20)\n",
    "    stack.push(30)\n",
    "\n",
    "    print(\"Stack size:\", stack.size())  # Output: 3\n",
    "    print(\"Top element:\", stack.peek())  # Output: 30\n",
    "\n",
    "    print(\"Popped element:\", stack.pop())  # Output: 30\n",
    "    print(\"Stack size after pop:\", stack.size())  # Output: 2\n",
    "\n",
    "    stack.pop()\n",
    "    stack.pop()\n",
    "    \n",
    "    print(\"Is stack empty?\", stack.is_empty())  # Output: True\n",
    "\n",
    "    try:\n",
    "        stack.pop()  # Should raise an error\n",
    "    except IndexError as e:\n",
    "        print(e)  # Output: Stack is empty\n"
   ]
  },
  {
   "cell_type": "code",
   "execution_count": null,
   "id": "535cc7df-851f-4d40-930d-7cd28de20e46",
   "metadata": {},
   "outputs": [],
   "source": []
  }
 ],
 "metadata": {
  "kernelspec": {
   "display_name": "Python 3 (ipykernel)",
   "language": "python",
   "name": "python3"
  },
  "language_info": {
   "codemirror_mode": {
    "name": "ipython",
    "version": 3
   },
   "file_extension": ".py",
   "mimetype": "text/x-python",
   "name": "python",
   "nbconvert_exporter": "python",
   "pygments_lexer": "ipython3",
   "version": "3.12.3"
  }
 },
 "nbformat": 4,
 "nbformat_minor": 5
}
