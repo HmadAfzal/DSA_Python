{
 "cells": [
  {
   "cell_type": "markdown",
   "id": "d7313ca8-f7e9-4960-9cf8-0466a9dc143b",
   "metadata": {},
   "source": [
    "# Adjacency List Graph"
   ]
  },
  {
   "cell_type": "code",
   "execution_count": 2,
   "id": "fd625c56-be09-42a6-af04-96bbb084e53c",
   "metadata": {},
   "outputs": [],
   "source": [
    "class Graph:\n",
    "    def __init__(self, size):\n",
    "        self.vertex_count = size\n",
    "        self.adj_list = {v: [] for v in range(size)}\n",
    "\n",
    "    def add_edge(self, u, v, weight=1):\n",
    "        if 0 <= u < self.vertex_count and 0 <= v < self.vertex_count:\n",
    "            if not any(vertex == v for vertex, _ in self.adj_list[u]):\n",
    "                self.adj_list[u].append((v, weight))\n",
    "                self.adj_list[v].append((u, weight))  # Undirected graph\n",
    "        else:\n",
    "            print(f\"Invalid Vertex: {u} or {v} is out of bounds!\")\n",
    "\n",
    "    def remove_edge(self, u, v):\n",
    "        if 0 <= u < self.vertex_count and 0 <= v < self.vertex_count:\n",
    "            self.adj_list[u] = [(vertex, w) for vertex, w in self.adj_list[u] if vertex != v]\n",
    "            self.adj_list[v] = [(vertex, w) for vertex, w in self.adj_list[v] if vertex != u]\n",
    "        else:\n",
    "            print(f\"Invalid Vertex: {u} or {v} is out of bounds!\")\n",
    "\n",
    "    def has_edge(self, u, v):\n",
    "        if 0 <= u < self.vertex_count and 0 <= v < self.vertex_count:\n",
    "            return any(vertex == v for vertex, _ in self.adj_list[u])\n",
    "        return False  \n",
    "\n",
    "    def print_adj_list(self):\n",
    "        print(\"\\nAdjacency List:\")\n",
    "        for vertex, neighbors in self.adj_list.items():\n",
    "            print(f\"V{vertex} -> {[(n, w) for n, w in neighbors]}\")\n",
    "        print()\n",
    "\n"
   ]
  },
  {
   "cell_type": "markdown",
   "id": "18fafd77-bee7-4ddb-b7a4-62b1ec3c52ba",
   "metadata": {},
   "source": [
    "## Driver Code"
   ]
  },
  {
   "cell_type": "code",
   "execution_count": 3,
   "id": "f1670c03-3030-4f12-a9a8-0685b869038a",
   "metadata": {},
   "outputs": [
    {
     "name": "stdout",
     "output_type": "stream",
     "text": [
      "\n",
      "Adjacency List:\n",
      "V0 -> [(1, 3), (2, 5)]\n",
      "V1 -> [(0, 3), (3, 2)]\n",
      "V2 -> [(0, 5), (4, 7)]\n",
      "V3 -> [(1, 2)]\n",
      "V4 -> [(2, 7)]\n",
      "\n",
      "Has Edge (0,1): True\n",
      "Has Edge (0,3): False\n",
      "\n",
      "Adjacency List:\n",
      "V0 -> [(2, 5)]\n",
      "V1 -> [(3, 2)]\n",
      "V2 -> [(0, 5), (4, 7)]\n",
      "V3 -> [(1, 2)]\n",
      "V4 -> [(2, 7)]\n",
      "\n"
     ]
    }
   ],
   "source": [
    "g = Graph(5)\n",
    "g.add_edge(0, 1, 3)\n",
    "g.add_edge(0, 2, 5)\n",
    "g.add_edge(1, 3, 2)\n",
    "g.add_edge(2, 4, 7)\n",
    "g.add_edge(0, 1, 3)  \n",
    "\n",
    "g.print_adj_list()\n",
    "\n",
    "print(\"Has Edge (0,1):\", g.has_edge(0, 1))  \n",
    "print(\"Has Edge (0,3):\", g.has_edge(0, 3))  \n",
    "\n",
    "g.remove_edge(0, 1)  \n",
    "g.print_adj_list()"
   ]
  },
  {
   "cell_type": "code",
   "execution_count": null,
   "id": "50c94f7d-13b7-4b47-b0be-4a737f2184ad",
   "metadata": {},
   "outputs": [],
   "source": []
  }
 ],
 "metadata": {
  "kernelspec": {
   "display_name": "Python 3 (ipykernel)",
   "language": "python",
   "name": "python3"
  },
  "language_info": {
   "codemirror_mode": {
    "name": "ipython",
    "version": 3
   },
   "file_extension": ".py",
   "mimetype": "text/x-python",
   "name": "python",
   "nbconvert_exporter": "python",
   "pygments_lexer": "ipython3",
   "version": "3.12.3"
  }
 },
 "nbformat": 4,
 "nbformat_minor": 5
}
