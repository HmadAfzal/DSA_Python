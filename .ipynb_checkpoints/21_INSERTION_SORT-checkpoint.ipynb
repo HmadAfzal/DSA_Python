{
 "cells": [
  {
   "cell_type": "markdown",
   "id": "69c038bd-ffec-4504-9f28-c911f25f093e",
   "metadata": {},
   "source": [
    "# Insertion Sort"
   ]
  },
  {
   "cell_type": "code",
   "execution_count": 1,
   "id": "f71fc6bf-4abc-4fe0-a492-79d1affc1a07",
   "metadata": {},
   "outputs": [],
   "source": [
    "def insertion_sort(arr):\n",
    "    n=len(arr)\n",
    "    for i in range(n):\n",
    "        temp=arr[i]\n",
    "        j=i-1\n",
    "        while j>=0 and arr[j]>temp:\n",
    "            arr[j+1]=arr[j]\n",
    "            j-=1\n",
    "        arr[j+1]=temp\n",
    "    return arr\n",
    "    "
   ]
  },
  {
   "cell_type": "code",
   "execution_count": 2,
   "id": "4d21cb84-4f9c-47f4-af8d-74706ebb9c6a",
   "metadata": {},
   "outputs": [
    {
     "data": {
      "text/plain": [
       "[7, 15, 24, 25, 26, 33, 38]"
      ]
     },
     "execution_count": 2,
     "metadata": {},
     "output_type": "execute_result"
    }
   ],
   "source": [
    "insertion_sort([25,33,24,15,26,7,38])"
   ]
  }
 ],
 "metadata": {
  "kernelspec": {
   "display_name": "Python 3 (ipykernel)",
   "language": "python",
   "name": "python3"
  },
  "language_info": {
   "codemirror_mode": {
    "name": "ipython",
    "version": 3
   },
   "file_extension": ".py",
   "mimetype": "text/x-python",
   "name": "python",
   "nbconvert_exporter": "python",
   "pygments_lexer": "ipython3",
   "version": "3.12.3"
  }
 },
 "nbformat": 4,
 "nbformat_minor": 5
}
