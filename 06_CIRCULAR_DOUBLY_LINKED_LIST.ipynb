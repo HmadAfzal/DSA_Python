{
 "cells": [
  {
   "cell_type": "markdown",
   "id": "788845cd-75ba-4dc3-a613-58dc62575fdc",
   "metadata": {},
   "source": [
    "# Circular Doubly Linked List"
   ]
  },
  {
   "cell_type": "code",
   "execution_count": 3,
   "id": "bf73b54d-f667-42cb-a5e6-01f218b3702f",
   "metadata": {},
   "outputs": [],
   "source": [
    "class Node:\n",
    "    def __init__(self, prev=None, item=None, next=None):\n",
    "        self.item = item\n",
    "        self.prev = prev\n",
    "        self.next = next\n",
    "\n",
    "class CDLL:\n",
    "    def __init__(self, start=None):\n",
    "        self.start = start\n",
    "\n",
    "    def is_empty(self):\n",
    "        return self.start is None\n",
    "\n",
    "    def insert_at_start(self, item):\n",
    "        if self.is_empty():\n",
    "            n = Node(None, item, None)\n",
    "            n.prev = n\n",
    "            n.next = n\n",
    "            self.start = n\n",
    "        else:\n",
    "            n = Node(self.start.prev, item, self.start)\n",
    "            self.start.prev.next = n\n",
    "            self.start.prev = n\n",
    "            self.start = n\n",
    "\n",
    "    def insert_at_last(self, item):\n",
    "        if self.is_empty():\n",
    "            self.insert_at_start(item)\n",
    "        else:\n",
    "            n = Node(self.start.prev, item, self.start)\n",
    "            self.start.prev.next = n\n",
    "            self.start.prev = n\n",
    "\n",
    "    def search(self, data):\n",
    "        if self.is_empty():\n",
    "            return None\n",
    "        temp = self.start\n",
    "        while True:\n",
    "            if temp.item == data:\n",
    "                return temp\n",
    "            temp = temp.next\n",
    "            if temp == self.start:\n",
    "                break\n",
    "        return None\n",
    "\n",
    "    def insert_after(self, item, data):\n",
    "        temp = self.search(item)\n",
    "        if temp:\n",
    "            n = Node(temp, data, temp.next)\n",
    "            temp.next.prev = n\n",
    "            temp.next = n\n",
    "        else:\n",
    "            return \"Item not found\"\n",
    "\n",
    "    def print_list(self):\n",
    "        if self.is_empty():\n",
    "            print(\"List is empty\")\n",
    "            return\n",
    "        temp = self.start\n",
    "        while True:\n",
    "            print(temp.item, end=\" <-> \")\n",
    "            temp = temp.next\n",
    "            if temp == self.start:\n",
    "                break\n",
    "        print(\"(Back to start)\")\n"
   ]
  },
  {
   "cell_type": "markdown",
   "id": "19c0775f-e01c-4bc0-8a71-ace4777ae7fb",
   "metadata": {},
   "source": [
    "## Driver Code"
   ]
  },
  {
   "cell_type": "code",
   "execution_count": 4,
   "id": "608812d4-a0ae-4843-ad1d-d12208315285",
   "metadata": {},
   "outputs": [
    {
     "name": "stdout",
     "output_type": "stream",
     "text": [
      "30 <-> 20 <-> 10 <-> (Back to start)\n",
      "30 <-> 20 <-> 10 <-> 40 <-> 50 <-> (Back to start)\n",
      "Search result: 20\n",
      "30 <-> 20 <-> 25 <-> 10 <-> 40 <-> 50 <-> (Back to start)\n"
     ]
    }
   ],
   "source": [
    "if __name__ == \"__main__\":\n",
    "    cdll = CDLL()\n",
    "\n",
    "    cdll.insert_at_start(10)\n",
    "    cdll.insert_at_start(20)\n",
    "    cdll.insert_at_start(30)\n",
    "    cdll.print_list()\n",
    "\n",
    "    cdll.insert_at_last(40)\n",
    "    cdll.insert_at_last(50)\n",
    "    cdll.print_list()\n",
    "\n",
    "    search_item = 20\n",
    "    result = cdll.search(search_item)\n",
    "    print(f\"Search result: {result.item}\" if result else \"Item not found\")\n",
    "\n",
    "    cdll.insert_after(20, 25)\n",
    "    cdll.print_list()\n"
   ]
  },
  {
   "cell_type": "code",
   "execution_count": null,
   "id": "39576d71-9577-4db3-ba5e-e6ca4143f0bc",
   "metadata": {},
   "outputs": [],
   "source": []
  }
 ],
 "metadata": {
  "kernelspec": {
   "display_name": "Python 3 (ipykernel)",
   "language": "python",
   "name": "python3"
  },
  "language_info": {
   "codemirror_mode": {
    "name": "ipython",
    "version": 3
   },
   "file_extension": ".py",
   "mimetype": "text/x-python",
   "name": "python",
   "nbconvert_exporter": "python",
   "pygments_lexer": "ipython3",
   "version": "3.12.3"
  }
 },
 "nbformat": 4,
 "nbformat_minor": 5
}
