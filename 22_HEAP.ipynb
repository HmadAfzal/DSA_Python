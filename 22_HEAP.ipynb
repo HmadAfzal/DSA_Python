{
 "cells": [
  {
   "cell_type": "markdown",
   "id": "13fa9247-54c7-4387-97c1-1140dfa06826",
   "metadata": {},
   "source": [
    "# Heap"
   ]
  },
  {
   "cell_type": "code",
   "execution_count": 1,
   "id": "992e8b7b-7a1b-4e55-87ee-a6a2edf31f56",
   "metadata": {},
   "outputs": [],
   "source": [
    "class Heap:\n",
    "    def __init__(self):\n",
    "        self.heap = []\n",
    "\n",
    "    def create_heap(self, arr):\n",
    "        for i in arr:\n",
    "            self.insert(i)\n",
    "\n",
    "    def insert(self, i):\n",
    "        self.heap.append(i)  \n",
    "        self._heapify_up(len(self.heap) - 1)  \n",
    "\n",
    "    def _heapify_up(self, index):\n",
    "        heap = self.heap\n",
    "        while index > 0:\n",
    "            parent_index = (index - 1) // 2\n",
    "            if heap[index] > heap[parent_index]:  \n",
    "                heap[index], heap[parent_index] = heap[parent_index], heap[index]\n",
    "                index = parent_index  \n",
    "            else:\n",
    "                break \n",
    "\n",
    "    def extract_max(self):\n",
    "        if not self.heap:\n",
    "            raise IndexError(\"Heap is empty\")\n",
    "        if len(self.heap) == 1:\n",
    "            return self.heap.pop()\n",
    "        max_value = self.heap[0]  \n",
    "        self.heap[0] = self.heap.pop()  \n",
    "        self._heapify_down(0) \n",
    "        return max_value\n",
    "\n",
    "    def _heapify_down(self, index):\n",
    "        heap = self.heap\n",
    "        size = len(heap)\n",
    "        while True:\n",
    "            left = 2 * index + 1\n",
    "            right = 2 * index + 2\n",
    "            largest = index\n",
    "            if left < size and heap[left] > heap[largest]:\n",
    "                largest = left\n",
    "            if right < size and heap[right] > heap[largest]:\n",
    "                largest = right\n",
    "            if largest != index:\n",
    "                heap[index], heap[largest] = heap[largest], heap[index]\n",
    "                index = largest  \n",
    "            else:\n",
    "                break  \n",
    "\n",
    "    def get_max(self):\n",
    "        if not self.heap:\n",
    "            raise IndexError(\"Heap is empty\")\n",
    "        return self.heap[0]\n",
    "\n",
    "    def size(self):\n",
    "        return len(self.heap)\n",
    "\n",
    "    def print_heap(self):\n",
    "        print(self.heap)\n"
   ]
  },
  {
   "cell_type": "markdown",
   "id": "994437bb-f123-472a-bf94-f61b5d66a9bc",
   "metadata": {},
   "source": [
    "## Driver Code"
   ]
  },
  {
   "cell_type": "code",
   "execution_count": 2,
   "id": "f83676a0-f9fe-4f35-b590-1121c96e3f22",
   "metadata": {},
   "outputs": [
    {
     "name": "stdout",
     "output_type": "stream",
     "text": [
      "[40, 30, 15, 10, 25]\n",
      "40\n",
      "[30, 25, 15, 10]\n"
     ]
    }
   ],
   "source": [
    "heap = Heap()\n",
    "heap.create_heap([15, 10, 30, 25, 40])\n",
    "heap.print_heap() \n",
    "print(heap.extract_max()) \n",
    "heap.print_heap() \n"
   ]
  },
  {
   "cell_type": "code",
   "execution_count": null,
   "id": "faecf9e7-fa15-49de-b922-931867de82d1",
   "metadata": {},
   "outputs": [],
   "source": []
  }
 ],
 "metadata": {
  "kernelspec": {
   "display_name": "Python 3 (ipykernel)",
   "language": "python",
   "name": "python3"
  },
  "language_info": {
   "codemirror_mode": {
    "name": "ipython",
    "version": 3
   },
   "file_extension": ".py",
   "mimetype": "text/x-python",
   "name": "python",
   "nbconvert_exporter": "python",
   "pygments_lexer": "ipython3",
   "version": "3.12.3"
  }
 },
 "nbformat": 4,
 "nbformat_minor": 5
}
