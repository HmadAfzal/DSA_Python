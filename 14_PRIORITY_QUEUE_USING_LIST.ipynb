{
 "cells": [
  {
   "cell_type": "markdown",
   "id": "792ca8f2-9a30-400b-bf01-a59f261c79e1",
   "metadata": {},
   "source": [
    "# Priority Queue Using List"
   ]
  },
  {
   "cell_type": "code",
   "execution_count": 2,
   "id": "b398f761-a192-4f73-bad1-d9a125ac62d0",
   "metadata": {},
   "outputs": [],
   "source": [
    "import heapq\n",
    "\n",
    "class PriorityQueue:\n",
    "    def __init__(self):\n",
    "        self.queue = []\n",
    "\n",
    "    def is_empty(self):\n",
    "        return len(self.queue) == 0\n",
    "\n",
    "    def push(self, data, priority):\n",
    "        heapq.heappush(self.queue, (priority, data))\n",
    "\n",
    "    def pop(self):\n",
    "        if not self.is_empty():\n",
    "            return heapq.heappop(self.queue)[1]\n",
    "        else:\n",
    "            raise IndexError(\"Priority Queue is empty\")\n",
    "\n",
    "    def size(self):\n",
    "        return len(self.queue)\n"
   ]
  },
  {
   "cell_type": "markdown",
   "id": "2fda77eb-c970-4da6-a117-477b195bcde3",
   "metadata": {},
   "source": [
    "## Driver Code"
   ]
  },
  {
   "cell_type": "code",
   "execution_count": 3,
   "id": "8d35be8b-93fd-434b-8003-93271b655309",
   "metadata": {},
   "outputs": [
    {
     "name": "stdout",
     "output_type": "stream",
     "text": [
      "Priority Queue Size: 3\n",
      "Highest Priority Element: Task 2\n",
      "Next Highest Priority Element: Task 3\n",
      "Remaining Size: 1\n"
     ]
    }
   ],
   "source": [
    "if __name__ == \"__main__\":\n",
    "    pq = PriorityQueue()\n",
    "    \n",
    "    pq.push(\"Task 1\", 3)\n",
    "    pq.push(\"Task 2\", 1)\n",
    "    pq.push(\"Task 3\", 2)\n",
    "\n",
    "    print(\"Priority Queue Size:\", pq.size())  \n",
    "    print(\"Highest Priority Element:\", pq.pop())  \n",
    "    print(\"Next Highest Priority Element:\", pq.pop())  \n",
    "    print(\"Remaining Size:\", pq.size())  \n"
   ]
  },
  {
   "cell_type": "code",
   "execution_count": null,
   "id": "aeaf135b-dff5-4d7f-8961-74e160894167",
   "metadata": {},
   "outputs": [],
   "source": []
  }
 ],
 "metadata": {
  "kernelspec": {
   "display_name": "Python 3 (ipykernel)",
   "language": "python",
   "name": "python3"
  },
  "language_info": {
   "codemirror_mode": {
    "name": "ipython",
    "version": 3
   },
   "file_extension": ".py",
   "mimetype": "text/x-python",
   "name": "python",
   "nbconvert_exporter": "python",
   "pygments_lexer": "ipython3",
   "version": "3.12.3"
  }
 },
 "nbformat": 4,
 "nbformat_minor": 5
}
